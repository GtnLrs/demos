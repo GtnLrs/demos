{
    "cells": [
        {
            "cell_type": "code",
            "execution_count": 1,
            "id": "dd7f94b2",
            "metadata": {},
            "outputs": [],
            "source": [
                "from multiprocessing import Queue, Process\n",
                "from cpu.utils.cpu_monitor_live import run_cpu_monitor, run_pipeline, run_spinners\n",
                "from cpu.utils.monitor_simulation import run_simulation\n",
                "import pandas as pd"
            ]
        },
        {
            "cell_type": "code",
            "execution_count": 2,
            "id": "40247965",
            "metadata": {},
            "outputs": [],
            "source": [
                "# create a system model\n",
                "from cpu.systems import CPUSystem\n",
                "\n",
                "cpu = CPUSystem(\"cpu\")"
            ]
        },
        {
            "cell_type": "code",
            "execution_count": null,
            "id": "ab992215",
            "metadata": {},
            "outputs": [],
            "source": [
                "queue = Queue()\n",
                "queue = Queue()\n",
                "\n",
                "sim_process = Process(target=run_simulation, args=(queue,))\n",
                "sim_process.start()\n",
                "sim_process = Process(target=run_simulation, args=(queue,))\n",
                "sim_process.start()\n",
                "\n",
                "monitor_process = run_cpu_monitor(queue)\n",
                "pipeline = [(run_spinners, (8, 60)), (run_spinners, (1, 60))]\n",
                "run_pipeline(pipeline)\n",
                "\n",
                "monitor_process.join()\n",
                "sim_process.join()\n",
                "# Receive simulation results from the queue\n",
                "if not queue.empty():\n",
                "    results = queue.get()\n",
                "    df = pd.DataFrame(results)\n",
                "monitor_process.join()\n",
                "sim_process.join()\n",
                "# Receive simulation results from the queue\n",
                "if not queue.empty():\n",
                "    results = queue.get()\n",
                "    df = pd.DataFrame(results)\n",
                "\n",
                "    # Save from notebook (safe path)\n",
                "    df.to_csv(\"data/real_time_measure.csv\", index=False)\n",
                "    print(\"Results saved!\")\n",
                "else:\n",
                "    print(\"Queue was empty. No results to save.\")\n"
            ]
        },
        {
            "cell_type": "code",
            "execution_count": null,
            "id": "dfc87fa2",
            "metadata": {},
            "outputs": [],
            "source": [
                "#Differentiate the simulated and measured data\n",
                "data_sim = pd.read_csv(\"data/real_time_measure.csv\")\n",
                "data_mes = pd.read_csv(\"data/real_time_measure.csv\")\n",
                "data_sim.rename(columns={'T_cpu_simulated': 'T_cpu'}, inplace=True)\n",
                "data_mes.rename(columns={'T_cpu_measured': 'T_cpu'}, inplace=True)"
            ]
        },
        {
            "cell_type": "code",
            "execution_count": null,
            "id": "8494d458",
            "metadata": {},
            "outputs": [
                {
                    "ename": "NameError",
                    "evalue": "name 'data_mes' is not defined",
                    "output_type": "error",
                    "traceback": [
                        "\u001b[31m---------------------------------------------------------------------------\u001b[39m",
                        "\u001b[31mNameError\u001b[39m                                 Traceback (most recent call last)",
                        "\u001b[36mCell\u001b[39m\u001b[36m \u001b[39m\u001b[32mIn[5]\u001b[39m\u001b[32m, line 5\u001b[39m\n\u001b[32m      1\u001b[39m \u001b[38;5;28;01mfrom\u001b[39;00m\u001b[38;5;250m \u001b[39m\u001b[34;01mcpu\u001b[39;00m\u001b[34;01m.\u001b[39;00m\u001b[34;01mutils\u001b[39;00m\u001b[34;01m.\u001b[39;00m\u001b[34;01mplot_recorders\u001b[39;00m\u001b[38;5;250m \u001b[39m\u001b[38;5;28;01mimport\u001b[39;00m plot_recorders\n\u001b[32m      3\u001b[39m plot_recorders(\n\u001b[32m      4\u001b[39m     {\n\u001b[32m----> \u001b[39m\u001b[32m5\u001b[39m         \u001b[33m\"\u001b[39m\u001b[33moperation\u001b[39m\u001b[33m\"\u001b[39m: \u001b[43mdata_mes\u001b[49m,\n\u001b[32m      6\u001b[39m         \u001b[38;5;66;03m# \"simulation\": data_sim,\u001b[39;00m\n\u001b[32m      7\u001b[39m     },\n\u001b[32m      8\u001b[39m     [[(\u001b[33m\"\u001b[39m\u001b[33mtime\u001b[39m\u001b[33m\"\u001b[39m, \u001b[33m\"\u001b[39m\u001b[33mT_cpu\u001b[39m\u001b[33m\"\u001b[39m), (\u001b[33m\"\u001b[39m\u001b[33mtime\u001b[39m\u001b[33m\"\u001b[39m, \u001b[33m\"\u001b[39m\u001b[33mcpu.usage\u001b[39m\u001b[33m\"\u001b[39m)], [(\u001b[33m\"\u001b[39m\u001b[33mT_cpu\u001b[39m\u001b[33m\"\u001b[39m, \u001b[33m\"\u001b[39m\u001b[33mFan_rpm_1\u001b[39m\u001b[33m\"\u001b[39m), (\u001b[33m\"\u001b[39m\u001b[33mtime\u001b[39m\u001b[33m\"\u001b[39m, \u001b[33m\"\u001b[39m\u001b[33mFan_rpm_1\u001b[39m\u001b[33m\"\u001b[39m)]],\n\u001b[32m      9\u001b[39m     width=\u001b[32m600\u001b[39m,\n\u001b[32m     10\u001b[39m     height=\u001b[32m350\u001b[39m,\n\u001b[32m     11\u001b[39m )\n",
                        "\u001b[31mNameError\u001b[39m: name 'data_mes' is not defined"
                    ]
                }
            ],
            "source": [
                "from cpu.utils.plot_recorders import plot_recorders\n",
                "\n",
                "plot_recorders(\n",
                "    {\n",
                "        \"operation\": data_mes,\n",
                "        # \"simulation\": data_sim,\n",
                "    },\n",
                "    [[(\"time\", \"T_cpu\"), (\"time\", \"cpu.usage\")], [(\"T_cpu\", \"Fan_rpm_1\"), (\"time\", \"Fan_rpm_1\")]],\n",
                "    width=600,\n",
                "    height=350,\n",
                ")"
            ]
        },
        {
            "cell_type": "code",
            "execution_count": null,
            "id": "f2ef8a1c",
            "metadata": {},
            "outputs": [],
            "source": []
        }
    ],
    "metadata": {
        "kernelspec": {
            "display_name": "Python 3",
            "language": "python",
            "name": "python3"
        },
        "language_info": {
            "codemirror_mode": {
                "name": "ipython",
                "version": 3
            },
            "file_extension": ".py",
            "mimetype": "text/x-python",
            "name": "python",
            "nbconvert_exporter": "python",
            "pygments_lexer": "ipython3",
            "version": "3.12.10"
        },
        "toc-showcode": false
    },
    "nbformat": 4,
    "nbformat_minor": 5
}