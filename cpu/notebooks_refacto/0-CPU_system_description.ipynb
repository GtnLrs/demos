{
 "cells": [
  {
   "cell_type": "markdown",
   "id": "7c63546c-f839-46a3-a355-8832ba12e9c0",
   "metadata": {
    "tags": []
   },
   "source": [
    "# CPU system description\n",
    "The whole CPU system is made of [4 sub-systems](./systems/):\n",
    "- a `CPU`, generating a thermal flow when running\n",
    "- a `fan` blowing fresh air on the exhanger\n",
    "- an `exchanger` to dissipate the heat flow from `CPU`\n",
    "- a `controler` to decide the power level of the `fan` from the `CPU` temperature\n",
    "\n",
    "<img src=\"../images/AMD_heatsink_and_fan.jpg\" alt=\"drawing\" style=\"width:600px;\"/>"
   ]
  },
  {
   "cell_type": "markdown",
   "id": "e2e0dc8e",
   "metadata": {},
   "source": [
    "The modellized system and its architecture may be imported and visualized following:"
   ]
  },
  {
   "cell_type": "code",
   "execution_count": 7,
   "id": "05aab7a7-ed84-478e-89e7-72feb2676074",
   "metadata": {},
   "outputs": [
    {
     "data": {
      "text/html": [
       "\n",
       "        <iframe\n",
       "            width=\"810px\"\n",
       "            height=\"650px\"\n",
       "            src=\"cpu.html\"\n",
       "            frameborder=\"0\"\n",
       "            allowfullscreen\n",
       "            \n",
       "        ></iframe>\n",
       "        "
      ],
      "text/markdown": [
       "\n",
       "### Child components\n",
       "\n",
       "- `controler`: FanController\n",
       "- `fan`: Fan\n",
       "- `exchanger`: HeatExchanger\n",
       "- `cpu`: CPU\n",
       "\n",
       "### Inputs\n",
       "\n",
       "\n",
       "- `inwards`: ExtensiblePort\n",
       "\n",
       "<div class='cosapp-port-table' style='margin-left: 25px; margin-top: -12px'><style type='text/css'>.cosapp-port-table >table >thead{display: none}.cosapp-port-table tbody tr{background: rgba(255, 255, 255, 0)!important}.cosapp-port-table tbody tr:hover{background: #e1f5fe!important}.cosapp-port-table >table {margin-left: unset; margin-right: unset}</style>\n",
       "\n",
       "|  |  |\n",
       "---|---\n",
       "  **T_cpu** &#128274;&#128274; : 20 degC | Metal temperature\n",
       "</div>"
      ],
      "text/plain": [
       "cpu - CPUSystem"
      ]
     },
     "execution_count": 7,
     "metadata": {},
     "output_type": "execute_result"
    }
   ],
   "source": [
    "from cpu.systems import CPUSystem\n",
    "\n",
    "# create a system model\n",
    "cpu = CPUSystem(\"cpu\")\n",
    "cpu"
   ]
  },
  {
   "cell_type": "markdown",
   "id": "50024226",
   "metadata": {},
   "source": [
    "CPU system can runned with its default values"
   ]
  },
  {
   "cell_type": "code",
   "execution_count": 8,
   "id": "bca0ced8",
   "metadata": {},
   "outputs": [
    {
     "name": "stdout",
     "output_type": "stream",
     "text": [
      "With an ambiant temperature of 40.0°C:\n",
      "CPU default features:\n",
      "\tUsage: 20.0 %\n",
      "\tPower: 21.0 W \n",
      "\tTemperature: 20.0°C \n",
      "Exchanger default features:\n",
      "\tSurface: 0.01 m^2 \n",
      "\n"
     ]
    }
   ],
   "source": [
    "def print_features(cpu):\n",
    "    print(\n",
    "        f\"With an ambiant temperature of {cpu.fan.T_air}°C:\\n\"\n",
    "        f\"CPU default features:\\n\"\n",
    "        f\"\\tUsage: {cpu.cpu.usage} %\\n\"\n",
    "        f\"\\tPower: {cpu.cpu.power} W \\n\"\n",
    "        f\"\\tTemperature: {cpu.T_cpu}°C \\n\"\n",
    "        f\"Exchanger default features:\\n\"\n",
    "        f\"\\tSurface: {cpu.exchanger.surface} m^2 \\n\"\n",
    "    )\n",
    "\n",
    "\n",
    "cpu.run_drivers()\n",
    "print_features(cpu)"
   ]
  },
  {
   "cell_type": "markdown",
   "id": "d773fa6e",
   "metadata": {},
   "source": [
    "Target variable to change its values"
   ]
  },
  {
   "cell_type": "code",
   "execution_count": 9,
   "id": "e8fd1de6",
   "metadata": {},
   "outputs": [
    {
     "name": "stdout",
     "output_type": "stream",
     "text": [
      "With an ambiant temperature of 40.0°C:\n",
      "CPU default features:\n",
      "\tUsage: 100.0 %\n",
      "\tPower: 105.0 W \n",
      "\tTemperature: 80.0°C \n",
      "Exchanger default features:\n",
      "\tSurface: 0.01 m^2 \n",
      "\n"
     ]
    }
   ],
   "source": [
    "cpu.fan.T_air = 40.0\n",
    "cpu.T_cpu = 80.0\n",
    "cpu.cpu.usage = 100.0\n",
    "\n",
    "cpu.run_drivers()\n",
    "print_features(cpu)"
   ]
  }
 ],
 "metadata": {
  "kernelspec": {
   "display_name": "Python 3",
   "language": "python",
   "name": "python3"
  },
  "language_info": {
   "codemirror_mode": {
    "name": "ipython",
    "version": 3
   },
   "file_extension": ".py",
   "mimetype": "text/x-python",
   "name": "python",
   "nbconvert_exporter": "python",
   "pygments_lexer": "ipython3",
   "version": "3.12.9"
  },
  "toc-showcode": false
 },
 "nbformat": 4,
 "nbformat_minor": 5
}
