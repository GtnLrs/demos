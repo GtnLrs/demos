{
 "cells": [
  {
   "cell_type": "markdown",
   "id": "7c63546c-f839-46a3-a355-8832ba12e9c0",
   "metadata": {
    "tags": []
   },
   "source": [
    "## Design a product\n",
    "\n",
    "The design of a product is the process of defining characteristics to meet others.\n",
    "\n",
    "Typically, geometries will be computed to reach physical specifications."
   ]
  },
  {
   "cell_type": "code",
   "execution_count": 75,
   "id": "82692aee",
   "metadata": {},
   "outputs": [],
   "source": [
    "def print_features(cpu):\n",
    "    print(\n",
    "        f\"With an ambiant temperature of {cpu.fan.T_air}°C:\\n\"\n",
    "        f\"CPU default features:\\n\"\n",
    "        f\"\\tUsage: {cpu.cpu.usage} %\\n\"\n",
    "        f\"\\tPower: {cpu.cpu.power} W \\n\"\n",
    "        f\"\\tTemperature: {cpu.T_cpu}°C \\n\"\n",
    "        f\"Exchanger default features:\\n\"\n",
    "        f\"\\tSurface: {cpu.exchanger.surface:.5f} m^2 \\n\"\n",
    "    )"
   ]
  },
  {
   "cell_type": "markdown",
   "id": "6687b30d",
   "metadata": {},
   "source": [
    "### Definition of the specs\n",
    "\n",
    "Create a new CPU system"
   ]
  },
  {
   "cell_type": "code",
   "execution_count": 76,
   "id": "05aab7a7-ed84-478e-89e7-72feb2676074",
   "metadata": {},
   "outputs": [],
   "source": [
    "from cpu.systems import CPUSystem\n",
    "\n",
    "# create a system model\n",
    "cpu = CPUSystem(\"cpu\")"
   ]
  },
  {
   "cell_type": "markdown",
   "id": "dd5b92fd",
   "metadata": {},
   "source": [
    "\n",
    "Exchanger surface is designed to target a maximum CPU temperature of 80°C, when air temperature is 40°C and CPU is used at 100%."
   ]
  },
  {
   "cell_type": "code",
   "execution_count": 77,
   "id": "899f0a40",
   "metadata": {},
   "outputs": [],
   "source": [
    "cpu.T_cpu = 80.0\n",
    "cpu.fan.T_air = 40.0\n",
    "cpu.cpu.usage = 100.0"
   ]
  },
  {
   "cell_type": "code",
   "execution_count": null,
   "id": "1a57f20d-cb9a-4b1b-ba97-6b50d111d9ba",
   "metadata": {},
   "outputs": [
    {
     "data": {
      "text/plain": [
       "Unknowns [1]\n",
       "  exchanger.surface = 0.01\n",
       "Equations [1]\n",
       "  cpu.heat_flow == cpu.power := -20.0"
      ]
     },
     "execution_count": 78,
     "metadata": {},
     "output_type": "execute_result"
    }
   ],
   "source": [
    "from cosapp.drivers import NonLinearSolver\n",
    "\n",
    "# add a design driver and its definition\n",
    "design = cpu.add_driver(NonLinearSolver(\"design\"))\n",
    "design.extend(cpu.design_methods[\"exchanger_surface\"])"
   ]
  },
  {
   "cell_type": "code",
   "execution_count": 79,
   "id": "a469528b-0073-43a7-89a9-16444d0fdf52",
   "metadata": {},
   "outputs": [
    {
     "name": "stdout",
     "output_type": "stream",
     "text": [
      "Target heat exchanger surface found to comply the imposed problem is: \n",
      "\n",
      "With an ambiant temperature of 40.0°C:\n",
      "CPU default features:\n",
      "\tUsage: 100.0 %\n",
      "\tPower: 105.0 W \n",
      "\tTemperature: 80.0°C \n",
      "Exchanger default features:\n",
      "\tSurface: 0.02386 m^2 \n",
      "\n"
     ]
    }
   ],
   "source": [
    "# run design\n",
    "cpu.run_drivers()\n",
    "print(\"Target heat exchanger surface found to comply the imposed problem is: \\n\")\n",
    "print_features(cpu)"
   ]
  },
  {
   "cell_type": "markdown",
   "id": "76b48598",
   "metadata": {},
   "source": [
    "### New design can be done instantly"
   ]
  },
  {
   "cell_type": "code",
   "execution_count": 80,
   "id": "81ed5d71-abc5-428a-8bb2-6d03d3730e82",
   "metadata": {},
   "outputs": [
    {
     "name": "stdout",
     "output_type": "stream",
     "text": [
      "With an ambiant temperature of 30.0°C:\n",
      "CPU default features:\n",
      "\tUsage: 100.0 %\n",
      "\tPower: 105.0 W \n",
      "\tTemperature: 80.0°C \n",
      "Exchanger default features:\n",
      "\tSurface: 0.01909 m^2 \n",
      "\n"
     ]
    }
   ],
   "source": [
    "# change air temperature value\n",
    "cpu.fan.T_air = 30.0\n",
    "\n",
    "# run again design\n",
    "cpu.run_drivers()\n",
    "print_features(cpu)"
   ]
  },
  {
   "cell_type": "markdown",
   "id": "8c7f831f",
   "metadata": {},
   "source": [
    "### More direct way to run the same design"
   ]
  },
  {
   "cell_type": "code",
   "execution_count": 81,
   "id": "5e53dd50",
   "metadata": {},
   "outputs": [],
   "source": [
    "# clear and define new drivers\n",
    "cpu.drivers.clear()\n",
    "design = cpu.add_driver(NonLinearSolver(\"solver\"))\n",
    "\n",
    "# add a single case driver to set values\n",
    "runner = design.add_driver(RunSingleCase(\"runner\"))\n",
    "\n",
    "# design method\n",
    "design.extend(cpu.design_methods[\"exchanger_surface\"])\n",
    "\n",
    "# set initial values\n",
    "design.runner.set_values({\"fan.T_air\": 40.0, \"T_cpu\": 80.0, \"cpu.usage\": 100.0})"
   ]
  },
  {
   "cell_type": "markdown",
   "id": "589e3d6a",
   "metadata": {},
   "source": [
    "### Save the designed system"
   ]
  },
  {
   "cell_type": "code",
   "execution_count": 82,
   "id": "c8376112",
   "metadata": {},
   "outputs": [],
   "source": [
    "from cosapp.utils.json import EncodingMetadata\n",
    "from pathlib import Path\n",
    "\n",
    "Path(\"data\").mkdir(exist_ok=True)\n",
    "cpu_json = cpu.save(\"data/cpu_ref.json\", encoding_metadata=EncodingMetadata(with_drivers=False))"
   ]
  }
 ],
 "metadata": {
  "kernelspec": {
   "display_name": "Python 3",
   "language": "python",
   "name": "python3"
  },
  "language_info": {
   "codemirror_mode": {
    "name": "ipython",
    "version": 3
   },
   "file_extension": ".py",
   "mimetype": "text/x-python",
   "name": "python",
   "nbconvert_exporter": "python",
   "pygments_lexer": "ipython3",
   "version": "3.12.9"
  },
  "toc-showcode": false
 },
 "nbformat": 4,
 "nbformat_minor": 5
}
