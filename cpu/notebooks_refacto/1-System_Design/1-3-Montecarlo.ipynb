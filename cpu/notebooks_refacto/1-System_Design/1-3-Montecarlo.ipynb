{
 "cells": [
  {
   "cell_type": "markdown",
   "id": "77e34722-4152-4942-8345-b6152331d4b7",
   "metadata": {},
   "source": [
    "# Monte Carlo assessment\n",
    "\n",
    "A Monte Carlo simulation is a way to assess uncertainties and robustness given probabilities on the model inputs. \n",
    "\n",
    "Here we illustrate how it works with a design Monte Carlo. It is also called robust design because we can  evaluate the impact on the designed characteristics (here the `exchanger.surface`)."
   ]
  },
  {
   "cell_type": "code",
   "execution_count": 1,
   "id": "d952aada-6dd7-4faf-a8a3-3edca994a72f",
   "metadata": {},
   "outputs": [],
   "source": [
    "from cosapp.drivers import MonteCarlo, NonLinearSolver, RunSingleCase\n",
    "from cosapp.recorders import DataFrameRecorder\n",
    "from cosapp.utils.distributions import Normal\n",
    "\n",
    "from cpu.systems import CPUSystem"
   ]
  },
  {
   "cell_type": "markdown",
   "id": "47d3eaa7",
   "metadata": {},
   "source": [
    "#### Start with a new system"
   ]
  },
  {
   "cell_type": "code",
   "execution_count": 2,
   "id": "72c15f7a-91b6-4a12-a0ba-8473aee59c82",
   "metadata": {},
   "outputs": [],
   "source": [
    "cpu = CPUSystem(\"cpu\")"
   ]
  },
  {
   "cell_type": "markdown",
   "id": "af165ad5",
   "metadata": {},
   "source": [
    "#### Use a Monte Carlo driver to insert uncertainties on air temperature and observe impact on the system"
   ]
  },
  {
   "cell_type": "code",
   "execution_count": 3,
   "id": "63ee6f7a",
   "metadata": {},
   "outputs": [],
   "source": [
    "# add MC driver\n",
    "mc = cpu.add_driver(MonteCarlo(\"mc\"))\n",
    "mc.add_recorder(DataFrameRecorder(includes=[\"*\"]))\n",
    "mc.draws = 100\n",
    "\n",
    "# Set the distribution of T_air around the current value\n",
    "T_air = cpu.fan.inwards.get_details(\"T_air\")\n",
    "T_air.distribution = Normal(best=1, worst=-0.5)\n",
    "\n",
    "# add T_air as perturbed variable\n",
    "mc.add_random_variable(\"fan.T_air\")\n",
    "\n",
    "# check the impact on some response variables\n",
    "mc.add_response([\"fan.tension\", \"cpu.usage\", \"T_cpu\"])"
   ]
  },
  {
   "cell_type": "markdown",
   "id": "421f79bc",
   "metadata": {},
   "source": [
    "#### Add complementary drivers for design"
   ]
  },
  {
   "cell_type": "code",
   "execution_count": 4,
   "id": "adb6dc84-bc90-40c3-a23a-8c710c1d97c2",
   "metadata": {},
   "outputs": [],
   "source": [
    "design = mc.add_child(NonLinearSolver(\"design\"))\n",
    "design.extend(cpu.design_methods[\"exchanger_surface\"])\n",
    "\n",
    "runner = design.add_driver(RunSingleCase(\"runner\"))\n",
    "runner.set_values({\"T_cpu\": 80.0, \"cpu.usage\": 100.0})"
   ]
  },
  {
   "cell_type": "markdown",
   "id": "c0fd0c35",
   "metadata": {},
   "source": [
    "#### Run Monte Carlo simulation "
   ]
  },
  {
   "cell_type": "code",
   "execution_count": 5,
   "id": "ba159772-9069-465a-ba6e-20e717e9cd7b",
   "metadata": {},
   "outputs": [],
   "source": [
    "cpu.run_drivers()\n",
    "results = mc.recorder.export_data()"
   ]
  },
  {
   "cell_type": "markdown",
   "id": "da4f7c7c",
   "metadata": {},
   "source": [
    "#### Show uncertainty distributions "
   ]
  },
  {
   "cell_type": "code",
   "execution_count": 7,
   "id": "fe7e9222",
   "metadata": {},
   "outputs": [
    {
     "data": {
      "text/html": [
       "\n",
       "        <iframe\n",
       "            width=\"100%\"\n",
       "            height=\"650\"\n",
       "            src=\"http://127.0.0.1:8051/\"\n",
       "            frameborder=\"0\"\n",
       "            allowfullscreen\n",
       "            \n",
       "        ></iframe>\n",
       "        "
      ],
      "text/plain": [
       "<IPython.lib.display.IFrame at 0x75c112222180>"
      ]
     },
     "metadata": {},
     "output_type": "display_data"
    }
   ],
   "source": [
    "from dash import Dash, dcc, html, Input, Output\n",
    "import plotly.graph_objects as go\n",
    "\n",
    "app = Dash(__name__)\n",
    "\n",
    "app.layout = html.Div(\n",
    "    [\n",
    "        html.H4(\"Design of heat exchanger surface according to air and CPU temperatures\"),\n",
    "        dcc.Graph(id=\"graph\"),\n",
    "        dcc.Dropdown(\n",
    "            id=\"response\",\n",
    "            options=[\n",
    "                {\"label\": \"Air temperature\", \"value\": \"fan.T_air\"},\n",
    "                {\n",
    "                    \"label\": \"Exchanger surface\",\n",
    "                    \"value\": \"exchanger.surface\",\n",
    "                },\n",
    "            ],\n",
    "            value=\"fan.T_air\",\n",
    "        ),\n",
    "    ]\n",
    ")\n",
    "\n",
    "\n",
    "@app.callback(Output(\"graph\", \"figure\"), Input(\"response\", \"value\"))\n",
    "def display_color(response):\n",
    "    fig = go.Figure(data=go.Histogram(x=results[response]))\n",
    "    fig.update_layout(xaxis_title=\"Value\", yaxis_title=\"Count\")\n",
    "    return fig\n",
    "\n",
    "\n",
    "app.run(port=8051)"
   ]
  },
  {
   "cell_type": "code",
   "execution_count": null,
   "id": "cdcc9707",
   "metadata": {},
   "outputs": [],
   "source": []
  }
 ],
 "metadata": {
  "kernelspec": {
   "display_name": "Python 3",
   "language": "python",
   "name": "python3"
  },
  "language_info": {
   "codemirror_mode": {
    "name": "ipython",
    "version": 3
   },
   "file_extension": ".py",
   "mimetype": "text/x-python",
   "name": "python",
   "nbconvert_exporter": "python",
   "pygments_lexer": "ipython3",
   "version": "3.12.9"
  }
 },
 "nbformat": 4,
 "nbformat_minor": 5
}
