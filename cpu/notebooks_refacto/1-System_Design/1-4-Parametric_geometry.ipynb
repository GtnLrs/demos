{
 "cells": [
  {
   "cell_type": "markdown",
   "id": "07063a6b-ec55-49bb-91ee-b802619bce29",
   "metadata": {},
   "source": [
    "# Parametric geometry\n",
    "\n",
    "## Why?\n",
    "\n",
    "Geometrical representation of the product is useful to understand the impact of a design process on physical parts, but not only.\n",
    "When running several computations/simulations of various physics on the product, they are all related to the same object and they need access to the geometry to perform relevant evaluations.\n",
    "\n",
    "Most of the time, the geometry is the first source of coupling between multi-physics simulations.\n",
    "\n",
    "## Example\n",
    "\n",
    "Let's keep a simple example: the CPU fan. We need the geometry to evalute the mass flow blown by the fan on the heat exchanger.\n",
    "\n",
    "![](../images/fan.png)\n",
    "\n",
    "### The blade\n",
    "\n",
    "We need to have a fairly simple parametric fan blade geometry."
   ]
  },
  {
   "cell_type": "code",
   "execution_count": 1,
   "id": "19ad0c36-5c76-44b2-ba9a-51878c8e9330",
   "metadata": {},
   "outputs": [],
   "source": [
    "from cpu.systems import ParametricBladeGeometry\n",
    "\n",
    "p_blade = ParametricBladeGeometry(\"blade\")\n",
    "p_blade.run_drivers()"
   ]
  },
  {
   "cell_type": "code",
   "execution_count": 2,
   "id": "d81f4ba9",
   "metadata": {},
   "outputs": [
    {
     "data": {
      "application/vnd.jupyter.widget-view+json": {
       "model_id": "a76d5a2170e84329b0a9876ec16df8ab",
       "version_major": 2,
       "version_minor": 0
      },
      "text/plain": [
       "Renderer(background='pink', camera=PerspectiveCamera(children=(DirectionalLight(intensity=0.3, position=(3.0, …"
      ]
     },
     "execution_count": 2,
     "metadata": {},
     "output_type": "execute_result"
    }
   ],
   "source": [
    "from cpu.utils.display import render_view\n",
    "\n",
    "render, render_row = render_view(p_blade.geometry, position=(-2.0, 0.0, 0.0))\n",
    "render_row.scale = (10.0, 10.0, 10.0)\n",
    "render.show()"
   ]
  },
  {
   "cell_type": "markdown",
   "id": "dc1d6844",
   "metadata": {},
   "source": [
    "#### Play on blade geometry"
   ]
  },
  {
   "cell_type": "code",
   "execution_count": 3,
   "id": "d00da295-6606-4515-b88a-14bef8351c48",
   "metadata": {},
   "outputs": [],
   "source": [
    "# set new values\n",
    "p_blade.hub_to_tip_ratio = 0.3\n",
    "p_blade.height_over_chord = 1.5\n",
    "p_blade.q_factor = 1.0\n",
    "p_blade.max_thickness_position = 0.3\n",
    "p_blade.max_thickness_ratio = 0.1\n",
    "p_blade.leading_tension = 0.1\n",
    "p_blade.trailing_tension = 0.1\n",
    "p_blade.inlet_angle = 40.0\n",
    "p_blade.exit_angle = 10.0\n",
    "p_blade.stacking_parameter = 0.3\n",
    "p_blade.stacking_angle = 0.0\n",
    "p_blade.swirl = 0.0\n",
    "\n",
    "# update geometry\n",
    "p_blade.run_drivers()"
   ]
  },
  {
   "cell_type": "markdown",
   "id": "a471f650",
   "metadata": {},
   "source": [
    "Visualize new geometry"
   ]
  },
  {
   "cell_type": "code",
   "execution_count": 4,
   "id": "9c320682",
   "metadata": {},
   "outputs": [
    {
     "data": {
      "application/vnd.jupyter.widget-view+json": {
       "model_id": "7418bc4da97841179798b2eb1de6d7b8",
       "version_major": 2,
       "version_minor": 0
      },
      "text/plain": [
       "Renderer(background='pink', camera=PerspectiveCamera(children=(DirectionalLight(intensity=0.3, position=(3.0, …"
      ]
     },
     "execution_count": 4,
     "metadata": {},
     "output_type": "execute_result"
    }
   ],
   "source": [
    "render, render_row = render_view(p_blade.geometry, position=(-2.0, 0.0, 0.0))\n",
    "render_row.scale = (10.0, 10.0, 10.0)\n",
    "render.show()"
   ]
  },
  {
   "cell_type": "markdown",
   "id": "294c5096-7537-4a4c-a693-741a2219107b",
   "metadata": {},
   "source": [
    "It looks promising!"
   ]
  },
  {
   "cell_type": "markdown",
   "id": "12517e64",
   "metadata": {},
   "source": [
    "### Let visualize the whole fan \n",
    "Start by create a complete fan "
   ]
  },
  {
   "cell_type": "code",
   "execution_count": 5,
   "id": "23e1afd4-942f-4f4f-90eb-43cea30b40b2",
   "metadata": {},
   "outputs": [],
   "source": [
    "from cpu.systems.fan_geometry import FanGeometry\n",
    "\n",
    "fan = FanGeometry(\"fan\")"
   ]
  },
  {
   "cell_type": "markdown",
   "id": "55710d0e",
   "metadata": {},
   "source": [
    "Initialize values of system components"
   ]
  },
  {
   "cell_type": "code",
   "execution_count": 6,
   "id": "31d6d6c0",
   "metadata": {},
   "outputs": [],
   "source": [
    "# set fan parameters\n",
    "fan.tip_radius = 0.1\n",
    "fan.hub_to_tip_ratio = 0.4\n",
    "fan.factor = 10.0\n",
    "\n",
    "# define 7 blades for the rotor\n",
    "rotor = fan.rotor\n",
    "rotor.count = 7\n",
    "\n",
    "# define the features of one blade\n",
    "blade = rotor.blade\n",
    "blade.height_over_chord = 1.3\n",
    "blade.q_factor = 1.0\n",
    "blade.max_thickness_position = 0.3\n",
    "blade.max_thickness_ratio = 0.1\n",
    "blade.leading_tension = 1.0\n",
    "blade.trailing_tension = 1.0\n",
    "blade.inlet_angle = 80.0\n",
    "blade.exit_angle = 60.0\n",
    "blade.stacking_parameter = 0.0\n",
    "blade.stacking_angle = 0.0\n",
    "blade.swirl = 25.0\n",
    "\n",
    "# define the features of the fan casing\n",
    "casing = fan.casing\n",
    "casing.thickness_ratio = 0.03\n",
    "casing.min_thickness = 0.002\n",
    "casing.clearance_ratio = 0.02\n",
    "casing.min_clearance = 0.005\n",
    "casing.struts_clearance_ratio = 0.05"
   ]
  },
  {
   "cell_type": "code",
   "execution_count": 7,
   "id": "a7674aa4",
   "metadata": {},
   "outputs": [
    {
     "data": {
      "application/vnd.jupyter.widget-view+json": {
       "model_id": "e944cf3f448541faa31faa08e222c2d2",
       "version_major": 2,
       "version_minor": 0
      },
      "text/plain": [
       "HBox(children=(Renderer(background='pink', camera=OrthographicCamera(bottom=-3.0, children=(DirectionalLight(i…"
      ]
     },
     "execution_count": 7,
     "metadata": {},
     "output_type": "execute_result"
    }
   ],
   "source": [
    "from cpu.utils.render_view import compare_with_image\n",
    "\n",
    "fan.run_drivers()\n",
    "compare_with_image(fan)"
   ]
  },
  {
   "cell_type": "code",
   "execution_count": null,
   "id": "e1b78c46",
   "metadata": {},
   "outputs": [],
   "source": []
  }
 ],
 "metadata": {
  "kernelspec": {
   "display_name": "Python 3",
   "language": "python",
   "name": "python3"
  },
  "language_info": {
   "codemirror_mode": {
    "name": "ipython",
    "version": 3
   },
   "file_extension": ".py",
   "mimetype": "text/x-python",
   "name": "python",
   "nbconvert_exporter": "python",
   "pygments_lexer": "ipython3",
   "version": "3.12.10"
  }
 },
 "nbformat": 4,
 "nbformat_minor": 5
}
