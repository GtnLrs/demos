{
 "cells": [
  {
   "cell_type": "markdown",
   "id": "61ab092b-c82c-4e29-85f2-16c0cab965b3",
   "metadata": {},
   "source": [
    "# Transient simulation\n",
    "\n",
    "The CPU temperature is evaluated from its initial temperature, and CPU power level. "
   ]
  },
  {
   "cell_type": "code",
   "execution_count": 1,
   "id": "4545688d",
   "metadata": {},
   "outputs": [],
   "source": [
    "from cpu.systems import CPUSystem\n",
    "\n",
    "cpu = CPUSystem.load(\"../data/cpu_ref.json\")"
   ]
  },
  {
   "cell_type": "code",
   "execution_count": 2,
   "id": "98bc6798",
   "metadata": {},
   "outputs": [],
   "source": [
    "from cosapp.drivers import NonLinearSolver, EulerExplicit\n",
    "from cosapp.recorders import DataFrameRecorder\n",
    "\n",
    "# define a time driver and a solver to converge each time step\n",
    "time_driver = cpu.add_driver(EulerExplicit(\"euler\", dt=1.0, time_interval=(0, 100)))\n",
    "nls = time_driver.add_child(NonLinearSolver(\"nls\", max_iter=15, factor=1.0))\n",
    "\n",
    "# Define a simulation scenario\n",
    "time_driver.set_scenario(\n",
    "    init={\"T_cpu\": 10.0},\n",
    "    values={\"fan.T_air\": 20.0, \"cpu.usage\": \"100 if time <20 else 0.\"},\n",
    ")\n",
    "\n",
    "# add a recorder to get data\n",
    "rec = time_driver.add_recorder(\n",
    "    DataFrameRecorder([\"fan.T_air\", \"cpu.usage\", \"T_cpu\", \"fan.tension\", \"time\"])\n",
    ")\n",
    "\n",
    "# run simulation\n",
    "cpu.run_drivers()"
   ]
  },
  {
   "cell_type": "code",
   "execution_count": null,
   "id": "4956c2fb",
   "metadata": {},
   "outputs": [
    {
     "data": {
      "application/vnd.jupyter.widget-view+json": {
       "model_id": "2780bde5d25a4489aea1ca7500103aa6",
       "version_major": 2,
       "version_minor": 0
      },
      "text/plain": [
       "VBox(children=(HBox(children=(FigureWidget({\n",
       "    'data': [{'mode': 'markers',\n",
       "              'name': 'time_seri…"
      ]
     },
     "execution_count": 3,
     "metadata": {},
     "output_type": "execute_result"
    }
   ],
   "source": [
    "from cpu.utils.plot_recorders import plot_recorders\n",
    "\n",
    "plot_recorders(\n",
    "    {\"time_series\": rec.data},\n",
    "    [\n",
    "        [\n",
    "            ({\"time\": \"Time (s)\"}, {\"T_cpu\": \"CPU temperature (°C)\"}),\n",
    "            ({\"time\": \"Time (s)\"}, {\"cpu.usage\": \"CPU usage (%)\"}),\n",
    "        ],\n",
    "    ],\n",
    ")"
   ]
  }
 ],
 "metadata": {
  "kernelspec": {
   "display_name": "Python 3",
   "language": "python",
   "name": "python3"
  },
  "language_info": {
   "codemirror_mode": {
    "name": "ipython",
    "version": 3
   },
   "file_extension": ".py",
   "mimetype": "text/x-python",
   "name": "python",
   "nbconvert_exporter": "python",
   "pygments_lexer": "ipython3",
   "version": "3.12.10"
  },
  "toc-showcode": false
 },
 "nbformat": 4,
 "nbformat_minor": 5
}
